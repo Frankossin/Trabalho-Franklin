{
  "nbformat": 4,
  "nbformat_minor": 0,
  "metadata": {
    "colab": {
      "provenance": [],
      "include_colab_link": true
    },
    "kernelspec": {
      "name": "python3",
      "display_name": "Python 3"
    },
    "language_info": {
      "name": "python"
    }
  },
  "cells": [
    {
      "cell_type": "markdown",
      "metadata": {
        "id": "view-in-github",
        "colab_type": "text"
      },
      "source": [
        "<a href=\"https://colab.research.google.com/github/Frankossin/Trabalho-Franklin/blob/main/Matplotlib_Trabalho1.ipynb\" target=\"_parent\"><img src=\"https://colab.research.google.com/assets/colab-badge.svg\" alt=\"Open In Colab\"/></a>"
      ]
    },
    {
      "cell_type": "code",
      "execution_count": 90,
      "metadata": {
        "id": "34Ha7eHOJiD9"
      },
      "outputs": [],
      "source": [
        "import matplotlib.pyplot as plt\n",
        "import math\n",
        "from math import pi\n",
        "import sympy as sy\n",
        "import numpy as np\n",
        "from numpy import cos, sin, tan"
      ]
    },
    {
      "cell_type": "code",
      "source": [
        "#EX 1\n",
        "#a)\n",
        "tan = 200/50\n",
        "print(\"O Ângulo do fotográfo é:\")\n",
        "display((math.atan(4))*(180/np.pi))\n",
        "print(\"o triângulo fica assim: \\n\")\n",
        "x1=np.array([0,50,50,0])\n",
        "y1=np.array([0,0,200,0])\n",
        "\n",
        "fig1= plt.figure(1)\n",
        "ax1=fig1.add_subplot(111)\n",
        "\n",
        "ax1.axis('square')\n",
        "plt.plot(x1,y1,color=[0/255,100/255,200/255])\n",
        "\n",
        "plt.xlim([-20,100])\n",
        "plt.ylim([-20,200])\n",
        "\n",
        "plt.grid(axis='both',which='major',color=(0.8, 0.8, 0.8, 0.5), linestyle='-', linewidth=1)\n",
        "plt.minorticks_on()\n",
        "plt.grid(axis='both',which='minor',color=(0.8, 0.8, 0.8, 0.5), linestyle=':', linewidth=1)\n",
        "\n",
        "\n",
        "\n",
        "plt.show() \n",
        "print(\"\\n-------------------------------------------------------------------------------\\n\")\n",
        "\n",
        "#b)\n",
        "def descubraAngulo(catO,catA):\n",
        "  tan = catO/catA\n",
        "  AnguloRad = math.atan(tan)\n",
        "  Angulo = AnguloRad * (180/np.pi)\n",
        "  return Angulo\n",
        "\n",
        "a = int(input(\"Digite a altura: \"))\n",
        "\n",
        "x = descubraAngulo(a,50)\n",
        "\n",
        "print(\"O Ângulo que o fotográfo precisa estar: \")\n",
        "display(x)\n",
        "print(\"\\n O triângulo ficara dessa forma: \\n\")\n",
        "\n",
        "\n",
        "#c)\n",
        "x1=np.array([0,50,50,0])\n",
        "y1=np.array([0,0,a,0])\n",
        "\n",
        "fig1= plt.figure(1)\n",
        "ax1=fig1.add_subplot(111)\n",
        "\n",
        "ax1.axis('square')\n",
        "plt.plot(x1,y1,color=[0/255,100/255,200/255])\n",
        "\n",
        "if a > 50:\n",
        "  plt.xlim([-50,a])\n",
        "else:\n",
        "  plt.xlim(-20,60)  \n",
        "plt.ylim([-20,a+10])\n",
        "\n",
        "plt.grid(axis='both',which='major',color=(0.8, 0.8, 0.8, 0.5), linestyle='-', linewidth=1)\n",
        "plt.minorticks_on()\n",
        "plt.grid(axis='both',which='minor',color=(0.8, 0.8, 0.8, 0.5), linestyle=':', linewidth=1)\n",
        "\n",
        "\n",
        "\n",
        "plt.show() \n"
      ],
      "metadata": {
        "colab": {
          "base_uri": "https://localhost:8080/",
          "height": 697
        },
        "id": "galjMMxYKoQp",
        "outputId": "bad3b039-5497-496d-d8d0-e5a333c20676"
      },
      "execution_count": 59,
      "outputs": [
        {
          "output_type": "stream",
          "name": "stdout",
          "text": [
            "O Ângulo do fotográfo é:\n"
          ]
        },
        {
          "output_type": "display_data",
          "data": {
            "text/plain": [
              "75.96375653207353"
            ]
          },
          "metadata": {}
        },
        {
          "output_type": "stream",
          "name": "stdout",
          "text": [
            "o triângulo fica assim: \n",
            "\n"
          ]
        },
        {
          "output_type": "display_data",
          "data": {
            "text/plain": [
              "<Figure size 432x288 with 1 Axes>"
            ],
            "image/png": "[encoded data removed]"
          },
          "metadata": {
            "needs_background": "light"
          }
        },
        {
          "output_type": "stream",
          "name": "stdout",
          "text": [
            "\n",
            "-------------------------------------------------------------------------------\n",
            "\n",
            "Digite a altura: 10\n",
            "O Ângulo que o fotográfo precisa estar: \n"
          ]
        },
        {
          "output_type": "display_data",
          "data": {
            "text/plain": [
              "11.309932474020215"
            ]
          },
          "metadata": {}
        },
        {
          "output_type": "stream",
          "name": "stdout",
          "text": [
            "\n",
            " O triângulo ficara dessa forma: \n",
            "\n"
          ]
        },
        {
          "output_type": "display_data",
          "data": {
            "text/plain": [
              "<Figure size 432x288 with 1 Axes>"
            ],
            "image/png": "[encoded data removed]"
          },
          "metadata": {
            "needs_background": "light"
          }
        }
      ]
    },
    {
      "cell_type": "code",
      "source": [
        "print(math.sin(30))\n",
        "print(math.sin(45*math.pi/180))"
      ],
      "metadata": {
        "colab": {
          "base_uri": "https://localhost:8080/"
        },
        "id": "DOvq4YdyoW16",
        "outputId": "f6fef2e7-89d1-4d2c-baa6-340dd01b657d"
      },
      "execution_count": 80,
      "outputs": [
        {
          "output_type": "stream",
          "name": "stdout",
          "text": [
            "-0.9880316240928618\n",
            "0.7071067811865475\n"
          ]
        }
      ]
    },
    {
      "cell_type": "code",
      "source": [
        "#EX 3\n",
        "\n",
        "plt.plot(0,0, color = 'red', marker = 'o')\n",
        "\n",
        "angle = np.linspace(0,2*pi,100)\n",
        "xs = cos(angle)\n",
        "ys = sin(angle)\n",
        "plt.plot(xs,ys, color=\"blue\")\n",
        "\n",
        "plt.xlim(-2,2)\n",
        "plt.ylim(-2,2)\n",
        "plt.show()\n"
      ],
      "metadata": {
        "colab": {
          "base_uri": "https://localhost:8080/",
          "height": 269
        },
        "id": "LTgaPqHak61E",
        "outputId": "8605dae1-66a3-41fc-9782-3e2d09b42af1"
      },
      "execution_count": 91,
      "outputs": [
        {
          "output_type": "display_data",
          "data": {
            "text/plain": [
              "<Figure size 432x288 with 1 Axes>"
            ],
            "image/png": "[encoded data removed]"
          },
          "metadata": {
            "needs_background": "light"
          }
        }
      ]
    }
  ]
}