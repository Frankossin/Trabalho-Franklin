{
  "nbformat": 4,
  "nbformat_minor": 0,
  "metadata": {
    "colab": {
      "provenance": [],
      "authorship_tag": "ABX9TyPWb0/tHB+SiOftePCfy/wq",
      "include_colab_link": true
    },
    "kernelspec": {
      "name": "python3",
      "display_name": "Python 3"
    },
    "language_info": {
      "name": "python"
    }
  },
  "cells": [
    {
      "cell_type": "markdown",
      "metadata": {
        "id": "view-in-github",
        "colab_type": "text"
      },
      "source": [
        "<a href=\"https://colab.research.google.com/github/Frankossin/Trabalho-Franklin/blob/Modelagem-fisica/Formas_normais.ipynb\" target=\"_parent\"><img src=\"https://colab.research.google.com/assets/colab-badge.svg\" alt=\"Open In Colab\"/></a>"
      ]
    },
    {
      "cell_type": "code",
      "execution_count": 1,
      "metadata": {
        "colab": {
          "base_uri": "https://localhost:8080/",
          "height": 687
        },
        "id": "OmoINSD5AJ36",
        "outputId": "71723a30-aefd-4435-ea50-76e35d15b7d1"
      },
      "outputs": [
        {
          "output_type": "stream",
          "name": "stdout",
          "text": [
            "\n",
            "Forma inicial: \n"
          ]
        },
        {
          "output_type": "display_data",
          "data": {
            "text/plain": [
              "<IPython.core.display.Latex object>"
            ],
            "text/latex": "A \\leftrightarrow B"
          },
          "metadata": {}
        },
        {
          "output_type": "stream",
          "name": "stdout",
          "text": [
            "Forma normal conjuntiva\n"
          ]
        },
        {
          "output_type": "display_data",
          "data": {
            "text/plain": [
              "<IPython.core.display.Latex object>"
            ],
            "text/latex": "( \\neg A \\vee B ) \\wedge ( \\neg B \\vee A )"
          },
          "metadata": {}
        },
        {
          "output_type": "stream",
          "name": "stdout",
          "text": [
            "Forma normal dijuntiva\n"
          ]
        },
        {
          "output_type": "display_data",
          "data": {
            "text/plain": [
              "<IPython.core.display.Latex object>"
            ],
            "text/latex": "( ( \\neg A \\vee B ) \\wedge \\neg B ) \\vee ( ( \\neg A \\vee B ) \\wedge A )"
          },
          "metadata": {}
        },
        {
          "output_type": "stream",
          "name": "stdout",
          "text": [
            "\n",
            "Forma inicial: \n"
          ]
        },
        {
          "output_type": "display_data",
          "data": {
            "text/plain": [
              "<IPython.core.display.Latex object>"
            ],
            "text/latex": "A \\vee ( B \\wedge C )"
          },
          "metadata": {}
        },
        {
          "output_type": "stream",
          "name": "stdout",
          "text": [
            "Forma normal conjuntiva\n"
          ]
        },
        {
          "output_type": "display_data",
          "data": {
            "text/plain": [
              "<IPython.core.display.Latex object>"
            ],
            "text/latex": "( A \\vee B ) \\wedge ( A \\vee C )"
          },
          "metadata": {}
        },
        {
          "output_type": "stream",
          "name": "stdout",
          "text": [
            "Forma normal dijuntiva\n"
          ]
        },
        {
          "output_type": "display_data",
          "data": {
            "text/plain": [
              "<IPython.core.display.Latex object>"
            ],
            "text/latex": "A \\vee ( B \\wedge C )"
          },
          "metadata": {}
        },
        {
          "output_type": "stream",
          "name": "stdout",
          "text": [
            "\n",
            "Forma inicial: \n"
          ]
        },
        {
          "output_type": "display_data",
          "data": {
            "text/plain": [
              "<IPython.core.display.Latex object>"
            ],
            "text/latex": "A \\rightarrow ( B \\wedge \\neg C )"
          },
          "metadata": {}
        },
        {
          "output_type": "stream",
          "name": "stdout",
          "text": [
            "Forma normal conjuntiva\n"
          ]
        },
        {
          "output_type": "display_data",
          "data": {
            "text/plain": [
              "<IPython.core.display.Latex object>"
            ],
            "text/latex": "( \\neg A \\vee B ) \\wedge ( \\neg A \\vee \\neg C )"
          },
          "metadata": {}
        },
        {
          "output_type": "stream",
          "name": "stdout",
          "text": [
            "Forma normal dijuntiva\n"
          ]
        },
        {
          "output_type": "display_data",
          "data": {
            "text/plain": [
              "<IPython.core.display.Latex object>"
            ],
            "text/latex": "\\neg A \\vee ( B \\wedge \\neg C )"
          },
          "metadata": {}
        },
        {
          "output_type": "stream",
          "name": "stdout",
          "text": [
            "\n",
            "Forma inicial: \n"
          ]
        },
        {
          "output_type": "display_data",
          "data": {
            "text/plain": [
              "<IPython.core.display.Latex object>"
            ],
            "text/latex": "( A \\rightarrow B ) \\leftrightarrow ( \\neg ( D \\wedge E ) )"
          },
          "metadata": {}
        },
        {
          "output_type": "stream",
          "name": "stdout",
          "text": [
            "Forma normal conjuntiva\n"
          ]
        },
        {
          "output_type": "display_data",
          "data": {
            "text/plain": [
              "<IPython.core.display.Latex object>"
            ],
            "text/latex": "( ( A \\wedge \\neg B ) \\vee ( ( \\neg D \\vee \\neg E ) ) ) \\wedge ( ( ( D \\wedge E ) ) \\vee ( \\neg A \\vee B ) )"
          },
          "metadata": {}
        },
        {
          "output_type": "stream",
          "name": "stdout",
          "text": [
            "Forma normal dijuntiva\n"
          ]
        },
        {
          "output_type": "display_data",
          "data": {
            "text/plain": [
              "<IPython.core.display.Latex object>"
            ],
            "text/latex": "( ( ( A \\wedge \\neg B ) \\vee ( ( \\neg D \\vee \\neg E ) ) ) \\wedge ( ( D \\wedge E ) ) ) \\vee ( ( ( ( A \\wedge \\neg B ) \\vee ( ( \\neg D \\vee \\neg E ) ) ) \\wedge \\neg A ) \\vee ( ( ( A \\wedge \\neg B ) \\vee ( ( \\neg D \\vee \\neg E ) ) ) \\wedge B ) )"
          },
          "metadata": {}
        },
        {
          "output_type": "stream",
          "name": "stdout",
          "text": [
            "\n",
            "Forma inicial: \n"
          ]
        },
        {
          "output_type": "display_data",
          "data": {
            "text/plain": [
              "<IPython.core.display.Latex object>"
            ],
            "text/latex": "A \\rightarrow \\neg ( B \\vee C )"
          },
          "metadata": {}
        },
        {
          "output_type": "stream",
          "name": "stdout",
          "text": [
            "Forma normal conjuntiva\n"
          ]
        },
        {
          "output_type": "display_data",
          "data": {
            "text/plain": [
              "<IPython.core.display.Latex object>"
            ],
            "text/latex": "( \\neg A \\vee \\neg B ) \\wedge ( \\neg A \\vee \\neg C )"
          },
          "metadata": {}
        },
        {
          "output_type": "stream",
          "name": "stdout",
          "text": [
            "Forma normal dijuntiva\n"
          ]
        },
        {
          "output_type": "display_data",
          "data": {
            "text/plain": [
              "<IPython.core.display.Latex object>"
            ],
            "text/latex": "\\neg A \\vee ( \\neg B \\wedge \\neg C )"
          },
          "metadata": {}
        }
      ],
      "source": [
        "\"\"\"\n",
        "Guilherme Schwarz\n",
        "Franklin Jeronimo\n",
        "Caua Gregorio\n",
        "Julia Moreira\n",
        "\n",
        "Nota: Percebemos que as vezes o arquivo de texto data.txt é deletado do Collab\n",
        "\n",
        "\"\"\"\n",
        "\n",
        "from IPython.display import display, Latex\n",
        "\n",
        "def lastIndex(arr: list, element):\n",
        "    return len(arr) - arr[::-1].index(element) - 1\n",
        "\n",
        "def wrongParentesis(arr: list):\n",
        "    if arr.count(\"(\") + arr.count(\")\") == 0:\n",
        "        return False\n",
        "\n",
        "    if arr.count(\"(\") != arr.count(\")\"):\n",
        "        return True\n",
        "\n",
        "    for i in range( len(arr) - 1 ):\n",
        "        if arr[i] == \"(\" and arr[i + 1] == \")\":\n",
        "            return True\n",
        "        if arr[i] == \")\" and arr[i + 1] == \"(\":\n",
        "            return True\n",
        "\n",
        "    if arr.index(\")\") < arr.index(\"(\"):\n",
        "        return True\n",
        "\n",
        "    if lastIndex(arr, \")\") < lastIndex(arr, \"(\"):\n",
        "        return True\n",
        "\n",
        "    return False\n",
        "\n",
        "def wrongOperators(arr: list):\n",
        "    if isOperator(arr[0]) and isOperator(arr[len(arr) - 1]):\n",
        "        return True\n",
        "\n",
        "    for i in range( len(arr) - 1 ):\n",
        "        if isOperator(arr[i]):\n",
        "            if isOperator(arr[i + 1]):\n",
        "                return True\n",
        "\n",
        "            if arr[i + 1] == \"(\":\n",
        "                if isOperator(arr[i + 2]):\n",
        "                    return True\n",
        "\n",
        "            if isOperator(arr[i + 1]) == \"\\\\neg\":\n",
        "                return True\n",
        "\n",
        "    return False\n",
        "\n",
        "def valid(arr: list):\n",
        "    if wrongParentesis(arr):\n",
        "        return False\n",
        "\n",
        "    if wrongOperators(arr):\n",
        "        return False\n",
        "\n",
        "    return True\n",
        "\n",
        "def findStartEnd(arr, opIndex):\n",
        "    start = opIndex - 1 if arr[opIndex - 2] != \"\\\\neg\" else opIndex - 2\n",
        "    end = opIndex + 2 if arr[opIndex + 1] != \"\\\\neg\" else opIndex + 3\n",
        "\n",
        "    level = 0\n",
        "    if arr[opIndex - 1] == \")\":\n",
        "        for i in range(opIndex - 2, -1, -1):\n",
        "            if arr[i] == \")\":\n",
        "                level += 1\n",
        "\n",
        "            if arr[i] == \"(\":\n",
        "                if level == 0:\n",
        "                    start = i\n",
        "                    break\n",
        "                else:\n",
        "                    level -= 1\n",
        "    if arr[opIndex + 1] == \"(\":\n",
        "        for i in range(opIndex + 2, len(arr)):\n",
        "            if arr[i] == \"(\":\n",
        "                level += 1\n",
        "\n",
        "            if arr[i] == \")\":\n",
        "                if level == 0:\n",
        "                    end = i + 1\n",
        "                    break\n",
        "                else:\n",
        "                    level -= 1\n",
        "\n",
        "    return start, end\n",
        "\n",
        "def transBicon(a, b):\n",
        "    a = a if isinstance(a, list) else [a]\n",
        "    b = b if isinstance(b, list) else [b]\n",
        "\n",
        "    return [\"(\"] + a + [\"\\\\rightarrow\"] + b + [\")\", \"\\\\wedge\", \"(\"] + b + [\"\\\\rightarrow\"] + a + [\")\"]\n",
        "\n",
        "def transImp(a, b):\n",
        "    a = a if isinstance(a, list) else [a]\n",
        "    b = b if isinstance(b, list) else [b]\n",
        "\n",
        "    return [\"\\\\neg\"] + a + [\"\\\\vee\"] + b\n",
        "\n",
        "def solveBicon(arr: list):\n",
        "    opIndex = arr.index(\"\\\\leftrightarrow\")\n",
        "\n",
        "    start, end = findStartEnd(arr, opIndex)\n",
        "\n",
        "    a = arr[start : opIndex]\n",
        "    b = arr[opIndex + 1 : end]\n",
        "    del arr[start: end]\n",
        "\n",
        "    result = transBicon(a, b)\n",
        "    arr = arr[0: start] + result + arr[start: len(arr)]\n",
        "    return arr\n",
        "\n",
        "def solveImp(arr: list):\n",
        "    opIndex = arr.index(\"\\\\rightarrow\")\n",
        "\n",
        "    start, end = findStartEnd(arr, opIndex)\n",
        "\n",
        "    a = arr[start : opIndex]\n",
        "    b = arr[opIndex + 1 : end]\n",
        "    del arr[start: end]\n",
        "\n",
        "    arr = arr[0: start] + transImp(a, b) + arr[start: len(arr)]\n",
        "    return arr\n",
        "\n",
        "def getChild(arr: list):\n",
        "    i = 0\n",
        "    children = []\n",
        "    while i < len(arr):\n",
        "        if arr[i] != \"(\":\n",
        "                children.append([arr[i]])\n",
        "                i += 1\n",
        "                continue\n",
        "        level = 0\n",
        "        for u in range(i + 1, len(arr)):\n",
        "            if arr[u] == \"(\":\n",
        "                level += 1\n",
        "            elif arr[u] == \")\":\n",
        "                if level == 0:\n",
        "                    children.append(arr[i:u + 1])\n",
        "                    i = u + 1\n",
        "                    break\n",
        "                else:\n",
        "                    level -= 1\n",
        "    return children\n",
        "\n",
        "def reverse(operator):\n",
        "    if operator == \"\\\\wedge\":\n",
        "        return \"\\\\vee\"\n",
        "    else:\n",
        "        return \"\\\\wedge\"\n",
        "\n",
        "def applyNeg(children: list):\n",
        "    result = []\n",
        "    for child in children:\n",
        "        if child[0] in [\"\\\\wedge\", \"\\\\vee\"]:\n",
        "            result += [reverse(child[0])]\n",
        "        elif child[0] == \"\\\\neg\":\n",
        "            result += [\"\\\\neg\"]\n",
        "        else:\n",
        "            result += [\"\\\\neg\"] + child\n",
        "    return result\n",
        "\n",
        "def solveNeg(arr: list):\n",
        "    for i in range(len(arr) - 1):\n",
        "        if arr[i] == \"\\\\neg\" and arr[i + 1] == \"(\":\n",
        "            start = i + 1\n",
        "            break\n",
        "    level = 0\n",
        "    for i in range(start + 1, len(arr)):\n",
        "        if arr[i] == \"(\":\n",
        "            level += 1\n",
        "\n",
        "        elif arr[i] == \")\":\n",
        "            if level == 0:\n",
        "                end = i + 1\n",
        "                break\n",
        "            else:\n",
        "                level -= 1\n",
        "\n",
        "    children = getChild(arr[start + 1: end - 1])\n",
        "    del arr[start - 1: end]\n",
        "\n",
        "    arr = arr[0: start - 1] + [\"(\"] + applyNeg(children) + [\")\"] + arr[start - 1: len(arr)]\n",
        "    return arr\n",
        "\n",
        "def removeNeg(arr: list):\n",
        "    for i in range(len(arr) - 1):\n",
        "        if arr[i] == \"\\\\neg\" and arr[i + 1] == \"\\\\neg\":\n",
        "            return arr[0: i] + arr[i + 2: len(arr)]\n",
        "    return arr\n",
        "\n",
        "def isOperator(var):\n",
        "    if var in [\"\\\\leftrightarrow\", \"\\\\rightarrow\", \"\\\\wedge\", \"\\\\vee\"]:\n",
        "        return True\n",
        "    return False\n",
        "\n",
        "def canDistribute(arr: list):\n",
        "    for i in range( len(arr) - 1 ):\n",
        "        if arr[i] == \"\\\\vee\" and arr[i + 1] == \"(\":\n",
        "            u = i + 2\n",
        "            level = 0\n",
        "            while u < len(arr):\n",
        "                if arr[u] == \"(\":\n",
        "                    level += 1\n",
        "                elif arr[u] == \")\":\n",
        "                    level -= 1\n",
        "                    if level < 0:\n",
        "                        break\n",
        "                elif arr[u] == \"\\\\wedge\":\n",
        "                    if level == 0:\n",
        "                        return True\n",
        "                u += 1\n",
        "    return False\n",
        "\n",
        "def canDistribute_wedge(arr: list):\n",
        "    for i in range( len(arr) - 1 ):\n",
        "        if arr[i] == \"\\\\wedge\" and arr[i + 1] == \"(\":\n",
        "            u = i + 2\n",
        "            level = 0\n",
        "            while u < len(arr):\n",
        "                if arr[u] == \"(\":\n",
        "                    level += 1\n",
        "                elif arr[u] == \")\":\n",
        "                    level -= 1\n",
        "                    if level < 0:\n",
        "                        break\n",
        "                elif arr[u] == \"\\\\vee\":\n",
        "                    if level == 0:\n",
        "                        return True\n",
        "                u += 1\n",
        "    return False\n",
        "\n",
        "def transDistribute(a,b,c):\n",
        "    a = a if isinstance(a, list) else [a]\n",
        "    b = b if isinstance(b, list) else [b]\n",
        "    c = c if isinstance(c, list) else [c]\n",
        "\n",
        "    return [\"(\"] + a + [\"\\\\vee\"] + b + [\")\"] + [\"\\\\wedge\"] + [\"(\"] + a + [\"\\\\vee\"] + c + [\")\"]\n",
        "\n",
        "def transDistribute_wedge(a,b,c):\n",
        "    a = a if isinstance(a, list) else [a]\n",
        "    b = b if isinstance(b, list) else [b]\n",
        "    c = c if isinstance(c, list) else [c]\n",
        "\n",
        "    return [\"(\"] + a + [\"\\\\wedge\"] + b + [\")\"] + [\"\\\\vee\"] + [\"(\"] + a + [\"\\\\wedge\"] + c + [\")\"]\n",
        "\n",
        "def distribute(arr:list):\n",
        "    for i in range( len(arr) - 1 ):\n",
        "        if arr[i] == \"\\\\vee\" and arr[i + 1] == \"(\":\n",
        "            u = i + 2\n",
        "            level = 0\n",
        "            while u < len(arr):\n",
        "                if arr[u] == \"(\":\n",
        "                    level += 1\n",
        "                elif arr[u] == \")\":\n",
        "                    level -= 1\n",
        "                    if level < 0:\n",
        "                        break\n",
        "                elif arr[u] == \"\\\\wedge\":\n",
        "                    if level == 0:\n",
        "                        A, P = findStartEnd(arr, i)\n",
        "                        B, C = findStartEnd(arr, u)\n",
        "\n",
        "                        a = arr[A: B - 2]\n",
        "                        b = arr[B: u]\n",
        "                        c = arr[u + 1: C ]\n",
        "                        del arr[A: P]\n",
        "\n",
        "                        result = transDistribute(a, b, c)\n",
        "                        arr = arr[0: A] + result + arr[A: len(arr)]\n",
        "\n",
        "                        return arr\n",
        "                u += 1\n",
        "\n",
        "def distribute_wedge(arr:list):\n",
        "    for i in range( len(arr) - 1 ):\n",
        "        if arr[i] == \"\\\\wedge\" and arr[i + 1] == \"(\":\n",
        "            u = i + 2\n",
        "            level = 0\n",
        "            while u < len(arr):\n",
        "                if arr[u] == \"(\":\n",
        "                    level += 1\n",
        "                elif arr[u] == \")\":\n",
        "                    level -= 1\n",
        "                    if level < 0:\n",
        "                        break\n",
        "                elif arr[u] == \"\\\\vee\":\n",
        "                    if level == 0:\n",
        "                        A, P = findStartEnd(arr, i)\n",
        "                        B, C = findStartEnd(arr, u)\n",
        "\n",
        "                        a = arr[A: B-2]\n",
        "                        b = arr[B: u]\n",
        "                        c = arr[u + 1: C ]\n",
        "                        del arr[A: P]\n",
        "\n",
        "                        result = transDistribute_wedge(a,b,c)\n",
        "                        arr = arr[0: A] + result + arr[A: len(arr)]\n",
        "\n",
        "                        return arr\n",
        "                u += 1\n",
        "\n",
        "def cnf(arr: list):\n",
        "    if \"\\\\leftrightarrow\" in arr:\n",
        "        arr = solveBicon(arr)\n",
        "        return cnf(arr)\n",
        "    if \"\\\\rightarrow\" in arr:\n",
        "        arr = solveImp(arr)\n",
        "        return cnf(arr)\n",
        "    if \"\\\\neg\" in arr:\n",
        "        for i in range(len(arr) - 1):\n",
        "            if arr[i] == \"\\\\neg\" and arr[i + 1] == \"(\":\n",
        "                arr = solveNeg(arr)\n",
        "                return cnf(arr)\n",
        "        for i in range(len(arr) - 1):\n",
        "            if arr[i] == \"\\\\neg\" and arr[i + 1] == \"\\\\neg\":\n",
        "                arr = removeNeg(arr)\n",
        "                return cnf(arr)\n",
        "    if canDistribute(arr):\n",
        "        arr = distribute(arr)\n",
        "        return cnf(arr)\n",
        "    return arr\n",
        "\n",
        "def dnf(arr: list):\n",
        "    if \"\\\\leftrightarrow\" in arr:\n",
        "        arr = solveBicon(arr)\n",
        "        return dnf(arr)\n",
        "    if \"\\\\rightarrow\" in arr:\n",
        "        arr = solveImp(arr)\n",
        "        return dnf(arr)\n",
        "    if \"\\\\neg\" in arr:\n",
        "        for i in range(len(arr) - 1):\n",
        "            if arr[i] == \"\\\\neg\" and arr[i + 1] == \"(\":\n",
        "                arr = solveNeg(arr)\n",
        "                return dnf(arr)\n",
        "        for i in range(len(arr) - 1):\n",
        "            if arr[i] == \"\\\\neg\" and arr[i + 1] == \"\\\\neg\":\n",
        "                arr = removeNeg(arr)\n",
        "                return dnf(arr)\n",
        "    if canDistribute_wedge(arr):\n",
        "        arr = distribute_wedge(arr)\n",
        "        return dnf(arr)\n",
        "    return arr\n",
        "\n",
        "with open(\"data.txt\") as f:\n",
        "    funcs = f.read().splitlines()\n",
        "\n",
        "for func in funcs:\n",
        "    arr = func.replace(\"\\n\", \"\").split(\" \")\n",
        "    if valid( arr ):\n",
        "        arr2 = arr.copy()\n",
        "        print(\"\\nForma inicial: \")\n",
        "        display(Latex(\" \".join(arr)))\n",
        "        print(\"Forma normal conjuntiva\")\n",
        "        display(Latex(\" \".join(cnf( arr ))))\n",
        "        print(\"Forma normal dijuntiva\")\n",
        "        display(Latex(\" \".join(dnf( arr2 ))))\n",
        "    else:\n",
        "        print(\"A formula dada não é valida\")\n",
        "\n"
      ]
    }
  ]
}