{
  "nbformat": 4,
  "nbformat_minor": 0,
  "metadata": {
    "colab": {
      "provenance": [],
      "authorship_tag": "ABX9TyMQo8pxfDQrKVV6YhlVq18N",
      "include_colab_link": true
    },
    "kernelspec": {
      "name": "python3",
      "display_name": "Python 3"
    },
    "language_info": {
      "name": "python"
    }
  },
  "cells": [
    {
      "cell_type": "markdown",
      "metadata": {
        "id": "view-in-github",
        "colab_type": "text"
      },
      "source": [
        "<a href=\"https://colab.research.google.com/github/Frankossin/Trabalho-Franklin/blob/Modelagem-fisica/Trabalho_Modelagem.ipynb\" target=\"_parent\"><img src=\"https://colab.research.google.com/assets/colab-badge.svg\" alt=\"Open In Colab\"/></a>"
      ]
    },
    {
      "cell_type": "code",
      "execution_count": 2,
      "metadata": {
        "id": "plLDRcp3rpt0"
      },
      "outputs": [],
      "source": [
        "import matplotlib.pyplot as plt\n",
        "import sympy as sp\n",
        "import numpy as np\n",
        "import math \n",
        "from IPython.display import display, Math"
      ]
    },
    {
      "cell_type": "code",
      "source": [
        "#Ex 1\n",
        "def f(x):\n",
        "    return (x**2 - 4)/(x - 2)\n",
        "x1 =sp.Symbol(\"x\")\n",
        "y2 = (x1**2 - 4)/(x1 - 2)\n",
        "x = np.linspace(-10,10,10)\n",
        "y = (x**2 - 4)/(x - 2)\n",
        "display(Math(r\"\\lim_{x \\to 3} f(x) = \" + f\"{y2}\"))\n",
        "display(Math(r\"\\lim_{x \\to 3} f(x) = \" + f\"{y2.subs(x1,3)}\"))\n",
        "plt.plot(x,y)\n",
        "plt.plot(3,5,\"o\",color=\"red\",label = \"ponto\")\n",
        "plt.title(r'$\\mathrm{Gráfico\\ de}\\ f(x) = \\frac{x^2 - 4}{x - 2}$')\n",
        "lim_3 = sp.limit(y2,x1,3)\n",
        "lim_0 = sp.limit(y2,x1,0)\n",
        "plt.plot(3,lim_3,\"o\", color = \"black\", label = \"limite\")\n"
      ],
      "metadata": {
        "colab": {
          "base_uri": "https://localhost:8080/",
          "height": 535
        },
        "id": "k1ZVbMSvr9bW",
        "outputId": "59768aa7-879e-4542-cbbb-c34cc5afe8c4"
      },
      "execution_count": null,
      "outputs": [
        {
          "output_type": "display_data",
          "data": {
            "text/plain": [
              "<IPython.core.display.Math object>"
            ],
            "text/latex": "$\\displaystyle \\lim_{x \\to 3} f(x) = (x**2 - 4)/(x - 2)$"
          },
          "metadata": {}
        },
        {
          "output_type": "display_data",
          "data": {
            "text/plain": [
              "<IPython.core.display.Math object>"
            ],
            "text/latex": "$\\displaystyle \\lim_{x \\to 3} f(x) = 5$"
          },
          "metadata": {}
        },
        {
          "output_type": "execute_result",
          "data": {
            "text/plain": [
              "[<matplotlib.lines.Line2D at 0x7f8a01a075b0>]"
            ]
          },
          "metadata": {},
          "execution_count": 2
        },
        {
          "output_type": "display_data",
          "data": {
            "text/plain": [
              "<Figure size 640x480 with 1 Axes>"
            ],
            "image/png": "[encoded data removed]"
          },
          "metadata": {}
        }
      ]
    },
    {
      "cell_type": "code",
      "source": [
        "#ex 2\n",
        "\n",
        "g(x)"
      ],
      "metadata": {
        "id": "BVmFwlqGC-n6"
      },
      "execution_count": null,
      "outputs": []
    },
    {
      "cell_type": "code",
      "source": [
        "# ex 4\n",
        "\n",
        "#a)\n",
        "print(\"a) \\n\")\n",
        "x = sp.Symbol(\"x\")\n",
        "fx = (x - 3 )/ (7 -x) \n",
        "\n",
        "#plotando a função\n",
        "xp = np.linspace(-10,10,200)\n",
        "yp = (xp - 3 )/ (7 -xp)\n",
        "plt.plot(xp,yp)\n",
        "plt.xlabel('$x$')\n",
        "plt.ylabel(\"$f(x)$\")\n",
        "plt.title(r\"$f(x) = \\frac{x - 3}{7 - x}$\")\n",
        "\n",
        "display(Math(r\"$\\lim{x \\to \\infty} f(x) = \\frac{x - 3}{7 - x}$\"))\n",
        "print(\"\\n\")\n",
        "display(Math(r\"$\\lim{x \\to \\infty} f(x) = \\frac{1 - \\frac{3}{x}}{\\frac{7}{x} - 1}$\"))\n",
        "print(\"\\n\")\n",
        "display(Math(r\"$\\lim{x \\to \\infty} f(x) = \\frac{1 - 0}{0 - 1}$\"))\n",
        "print(\"\\n\")\n",
        "display(Math(r\"$\\lim{x \\to \\infty} f(x) = \\frac{1}{- 1}$\"))\n",
        "print(\"\\n\")\n",
        "display(Math(r\"$\\lim{x \\to \\infty} f(x) = -1$\"))\n",
        "print(\"\\n\")"
      ],
      "metadata": {
        "colab": {
          "base_uri": "https://localhost:8080/",
          "height": 858
        },
        "id": "2DtFdZZQaXbE",
        "outputId": "2bd4f04e-aa56-4857-9163-c7f813c1b54d"
      },
      "execution_count": null,
      "outputs": [
        {
          "output_type": "stream",
          "name": "stdout",
          "text": [
            "a) \n",
            "\n"
          ]
        },
        {
          "output_type": "display_data",
          "data": {
            "text/plain": [
              "<IPython.core.display.Math object>"
            ],
            "text/latex": "$\\displaystyle \\lim{x \\to \\infty} f(x) = \\frac{x - 3}{7 - x}$"
          },
          "metadata": {}
        },
        {
          "output_type": "stream",
          "name": "stdout",
          "text": [
            "\n",
            "\n"
          ]
        },
        {
          "output_type": "display_data",
          "data": {
            "text/plain": [
              "<IPython.core.display.Math object>"
            ],
            "text/latex": "$\\displaystyle \\lim{x \\to \\infty} f(x) = \\frac{1 - \\frac{3}{x}}{\\frac{7}{x} - 1}$"
          },
          "metadata": {}
        },
        {
          "output_type": "stream",
          "name": "stdout",
          "text": [
            "\n",
            "\n"
          ]
        },
        {
          "output_type": "display_data",
          "data": {
            "text/plain": [
              "<IPython.core.display.Math object>"
            ],
            "text/latex": "$\\displaystyle \\lim{x \\to \\infty} f(x) = \\frac{1 - 0}{0 - 1}$"
          },
          "metadata": {}
        },
        {
          "output_type": "stream",
          "name": "stdout",
          "text": [
            "\n",
            "\n"
          ]
        },
        {
          "output_type": "display_data",
          "data": {
            "text/plain": [
              "<IPython.core.display.Math object>"
            ],
            "text/latex": "$\\displaystyle \\lim{x \\to \\infty} f(x) = \\frac{1}{- 1}$"
          },
          "metadata": {}
        },
        {
          "output_type": "stream",
          "name": "stdout",
          "text": [
            "\n",
            "\n"
          ]
        },
        {
          "output_type": "display_data",
          "data": {
            "text/plain": [
              "<IPython.core.display.Math object>"
            ],
            "text/latex": "$\\displaystyle \\lim{x \\to \\infty} f(x) = -1$"
          },
          "metadata": {}
        },
        {
          "output_type": "stream",
          "name": "stdout",
          "text": [
            "\n",
            "\n"
          ]
        },
        {
          "output_type": "display_data",
          "data": {
            "text/plain": [
              "<Figure size 640x480 with 1 Axes>"
            ],
            "image/png": "[encoded data removed]"
          },
          "metadata": {}
        }
      ]
    },
    {
      "cell_type": "code",
      "source": [
        "#b)\n",
        "print(\"b) \\n\")\n",
        "#Descobrindo o resultado do limite\n",
        "x = sp.Symbol(\"x\")\n",
        "fx = 1/(x**2 + 5*x)\n",
        "limit = sp.limit(fx,x,np.infty)\n",
        "\n",
        "#fazendo o passo a passo\n",
        "display(Math(r\"$\\lim{x \\to \\infty} f(x) = \\frac{1}{x^2 + 5x}$\"))\n",
        "print(\"\\n\")\n",
        "display(Math(r\"$\\lim{x \\to \\infty} f(x) = \\frac{1}{\\lim_{x \\to \\infty}(x(x + 5))}$\"))\n",
        "print(\"\\n\")\n",
        "display(Math(r\"$\\lim{x \\to \\infty} f(x) = \\frac{1}{\\infty}$\"))\n",
        "print(\"\\n\")\n",
        "display(Math(r\"\\lim{x \\to \\infty} f(x) =\"+f\"{limit}\"))\n",
        "print(\"\\n\")\n",
        "\n",
        "#Grafico\n",
        "xp = np.linspace(-10,10,100)\n",
        "yp = (1/(xp**2 + 5*xp))\n",
        "\n",
        "plt.plot(xp,yp)\n",
        "plt.title(r\"$f(x) = \\frac{1}{x^2 + 5x}$\")\n",
        "plt.xlabel(\"$x$\")\n",
        "plt.ylabel(\"$f(x)$\")\n"
      ],
      "metadata": {
        "colab": {
          "base_uri": "https://localhost:8080/",
          "height": 799
        },
        "id": "2cceU9Aft8jk",
        "outputId": "d873ae5c-2a87-4ed6-8c77-bd3de33cf6e4"
      },
      "execution_count": 51,
      "outputs": [
        {
          "output_type": "stream",
          "name": "stdout",
          "text": [
            "b) \n",
            "\n"
          ]
        },
        {
          "output_type": "display_data",
          "data": {
            "text/plain": [
              "<IPython.core.display.Math object>"
            ],
            "text/latex": "$\\displaystyle \\lim{x \\to \\infty} f(x) = \\frac{1}{x^2 + 5x}$"
          },
          "metadata": {}
        },
        {
          "output_type": "stream",
          "name": "stdout",
          "text": [
            "\n",
            "\n"
          ]
        },
        {
          "output_type": "display_data",
          "data": {
            "text/plain": [
              "<IPython.core.display.Math object>"
            ],
            "text/latex": "$\\displaystyle \\lim{x \\to \\infty} f(x) = \\frac{1}{\\lim_{x \\to \\infty}(x(x + 5))}$"
          },
          "metadata": {}
        },
        {
          "output_type": "stream",
          "name": "stdout",
          "text": [
            "\n",
            "\n"
          ]
        },
        {
          "output_type": "display_data",
          "data": {
            "text/plain": [
              "<IPython.core.display.Math object>"
            ],
            "text/latex": "$\\displaystyle \\lim{x \\to \\infty} f(x) = \\frac{1}{\\infty}$"
          },
          "metadata": {}
        },
        {
          "output_type": "stream",
          "name": "stdout",
          "text": [
            "\n",
            "\n"
          ]
        },
        {
          "output_type": "display_data",
          "data": {
            "text/plain": [
              "<IPython.core.display.Math object>"
            ],
            "text/latex": "$\\displaystyle \\lim{x \\to \\infty} f(x) =0$"
          },
          "metadata": {}
        },
        {
          "output_type": "stream",
          "name": "stdout",
          "text": [
            "\n",
            "\n"
          ]
        },
        {
          "output_type": "execute_result",
          "data": {
            "text/plain": [
              "Text(0, 0.5, '$f(x)$')"
            ]
          },
          "metadata": {},
          "execution_count": 51
        },
        {
          "output_type": "display_data",
          "data": {
            "text/plain": [
              "<Figure size 640x480 with 1 Axes>"
            ],
            "image/png": "[encoded data removed]"
          },
          "metadata": {}
        }
      ]
    },
    {
      "cell_type": "code",
      "source": [
        "#c)\n",
        "print(\"c) \\n\")\n",
        "#Descobrindo o resultado do limite\n",
        "x = sp.Symbol(\"x\")\n",
        "fx = (x -1) /(x**2 + 5*x - 6)\n",
        "limit = sp.limit(fx,x,np.infty)\n",
        "fact = sp.factor(x**2 +5*x - 6)\n",
        "\n",
        "#passo a passo\n",
        "display(Math(r\"$\\lim{x \\to \\infty} f(x) = \\frac{x-1}{x^2 + 5x - 6}$\"))\n",
        "print(\"\\n\")\n",
        "display(Math(r\"$\\lim{x \\to \\infty} f(x) = \\frac{\\lim_{x \\to \\infty}(x-1)}{\\lim_{x \\to \\infty}(x^2 + 5x - 6)}$\"))\n",
        "print(\"\\n\")\n",
        "display(Math(r\"$\\lim{x \\to \\infty} f(x) = \\frac{\\lim_{x \\to \\infty}(x-1)}{\\lim_{x \\to \\infty}((x-1)(x+6))}$\"))\n",
        "print(\"\\n\")\n",
        "display(Math(r\"$\\lim{x \\to \\infty} f(x) = \\frac{1}{\\lim_{x \\to \\infty}(x+6)}$\"))\n",
        "print(\"\\n\")\n",
        "display(Math(r\"$\\lim{x \\to \\infty} f(x) = \\frac{1}{\\infty}$\"))\n",
        "print(\"\\n\")\n",
        "display(Math(r\"\\lim{x \\to \\infty} f(x) = \"+f\"{limit}\"))\n",
        "\n",
        "#Grafico\n",
        "xp = np.linspace(-10,10,100)\n",
        "yp = ((xp-1)/(xp**2 + 5*xp - 6))\n",
        "\n",
        "plt.plot(xp,yp)\n",
        "plt.title(r\"$f(x) = \\frac{x-1}{x^2 + 5x-6}$\")\n",
        "plt.xlabel(\"$x$\")\n",
        "plt.ylabel(\"$f(x)$\")"
      ],
      "metadata": {
        "colab": {
          "base_uri": "https://localhost:8080/",
          "height": 914
        },
        "id": "pTiJGBji2wDh",
        "outputId": "589a0f36-29db-4765-9a70-84d1b649bd53"
      },
      "execution_count": 63,
      "outputs": [
        {
          "output_type": "stream",
          "name": "stdout",
          "text": [
            "c) \n",
            "\n"
          ]
        },
        {
          "output_type": "display_data",
          "data": {
            "text/plain": [
              "<IPython.core.display.Math object>"
            ],
            "text/latex": "$\\displaystyle \\lim{x \\to \\infty} f(x) = \\frac{x-1}{x^2 + 5x - 6}$"
          },
          "metadata": {}
        },
        {
          "output_type": "stream",
          "name": "stdout",
          "text": [
            "\n",
            "\n"
          ]
        },
        {
          "output_type": "display_data",
          "data": {
            "text/plain": [
              "<IPython.core.display.Math object>"
            ],
            "text/latex": "$\\displaystyle \\lim{x \\to \\infty} f(x) = \\frac{\\lim_{x \\to \\infty}(x-1)}{\\lim_{x \\to \\infty}(x^2 + 5x - 6)}$"
          },
          "metadata": {}
        },
        {
          "output_type": "stream",
          "name": "stdout",
          "text": [
            "\n",
            "\n"
          ]
        },
        {
          "output_type": "display_data",
          "data": {
            "text/plain": [
              "<IPython.core.display.Math object>"
            ],
            "text/latex": "$\\displaystyle \\lim{x \\to \\infty} f(x) = \\frac{\\lim_{x \\to \\infty}(x-1)}{\\lim_{x \\to \\infty}((x-1)(x+6))}$"
          },
          "metadata": {}
        },
        {
          "output_type": "stream",
          "name": "stdout",
          "text": [
            "\n",
            "\n"
          ]
        },
        {
          "output_type": "display_data",
          "data": {
            "text/plain": [
              "<IPython.core.display.Math object>"
            ],
            "text/latex": "$\\displaystyle \\lim{x \\to \\infty} f(x) = \\frac{1}{\\lim_{x \\to \\infty}(x+6)}$"
          },
          "metadata": {}
        },
        {
          "output_type": "stream",
          "name": "stdout",
          "text": [
            "\n",
            "\n"
          ]
        },
        {
          "output_type": "display_data",
          "data": {
            "text/plain": [
              "<IPython.core.display.Math object>"
            ],
            "text/latex": "$\\displaystyle \\lim{x \\to \\infty} f(x) = \\frac{1}{\\infty}$"
          },
          "metadata": {}
        },
        {
          "output_type": "stream",
          "name": "stdout",
          "text": [
            "\n",
            "\n"
          ]
        },
        {
          "output_type": "display_data",
          "data": {
            "text/plain": [
              "<IPython.core.display.Math object>"
            ],
            "text/latex": "$\\displaystyle \\lim{x \\to \\infty} f(x) = 0$"
          },
          "metadata": {}
        },
        {
          "output_type": "execute_result",
          "data": {
            "text/plain": [
              "Text(0, 0.5, '$f(x)$')"
            ]
          },
          "metadata": {},
          "execution_count": 63
        },
        {
          "output_type": "display_data",
          "data": {
            "text/plain": [
              "<Figure size 640x480 with 1 Axes>"
            ],
            "image/png": "[encoded data removed]"
          },
          "metadata": {}
        }
      ]
    },
    {
      "cell_type": "code",
      "source": [
        "#d)\n",
        "print(\"d) \\n\")\n",
        "#Descobrindo o resultado do limite\n",
        "x = sp.Symbol(\"x\")\n",
        "fx = (3 + x) /(x**2 - 2)\n",
        "limit = sp.limit(fx,x,np.infty)\n",
        "\n",
        "\n",
        "#passo a passo\n",
        "display(Math(r\"$\\lim{x \\to \\infty} f(x) = \\frac{3 + x}{x^2 - 2}$\"))\n",
        "print(\"\\n\")\n",
        "display(Math(r\"$\\lim{x \\to \\infty} f(x) = \\frac{\\frac{3}{x^2} +\\frac {x}{x^2}}{\\frac{x^2}{x^2} - \\frac{2}{x^2}}$\"))\n",
        "print(\"\\n\")\n",
        "display(Math(r\"$\\lim{x \\to \\infty} f(x) = \\frac{\\lim_{x \\to \\infty}(\\frac{3}{x^2} +\\frac {x}{x^2})}{\\lim_{x \\to \\infty}(1 - \\frac{2}{x^2})}$\"))\n",
        "print(\"\\n\")\n",
        "display(Math(r\"$\\lim{x \\to \\infty} f(x) = \\frac{\\lim_{x \\to \\infty}(0 + 0)} {\\lim_{x \\to \\infty}(1 - 0)}$\"))\n",
        "print(\"\\n\")\n",
        "display(Math(r\"$\\lim{x \\to \\infty} f(x) = \\frac{0} {1}$\"))\n",
        "print(\"\\n\")\n",
        "display(Math(r\"\\lim{x \\to \\infty} f(x) = \"+f\"{limit}\"))\n",
        "print(\"\\n\")\n",
        "\n",
        "\n",
        "#Grafico\n",
        "xp = np.linspace(-10,10,200)\n",
        "yp = ((3 + xp)/(xp**2 - 2))\n",
        "\n",
        "plt.plot(xp,yp)\n",
        "plt.title(r\"$f(x) = \\frac{3+x}{x^2 - 2}$\")\n",
        "plt.xlabel(\"$x$\")\n",
        "plt.ylabel(\"$f(x)$\")"
      ],
      "metadata": {
        "colab": {
          "base_uri": "https://localhost:8080/",
          "height": 962
        },
        "id": "KP_4uuIl-hVj",
        "outputId": "b7b96e6a-cca2-42a6-c449-0c4e23dc9fb0"
      },
      "execution_count": 67,
      "outputs": [
        {
          "output_type": "stream",
          "name": "stdout",
          "text": [
            "d) \n",
            "\n"
          ]
        },
        {
          "output_type": "display_data",
          "data": {
            "text/plain": [
              "<IPython.core.display.Math object>"
            ],
            "text/latex": "$\\displaystyle \\lim{x \\to \\infty} f(x) = \\frac{3 + x}{x^2 - 2}$"
          },
          "metadata": {}
        },
        {
          "output_type": "stream",
          "name": "stdout",
          "text": [
            "\n",
            "\n"
          ]
        },
        {
          "output_type": "display_data",
          "data": {
            "text/plain": [
              "<IPython.core.display.Math object>"
            ],
            "text/latex": "$\\displaystyle \\lim{x \\to \\infty} f(x) = \\frac{\\frac{3}{x^2} +\\frac {x}{x^2}}{\\frac{x^2}{x^2} - \\frac{2}{x^2}}$"
          },
          "metadata": {}
        },
        {
          "output_type": "stream",
          "name": "stdout",
          "text": [
            "\n",
            "\n"
          ]
        },
        {
          "output_type": "display_data",
          "data": {
            "text/plain": [
              "<IPython.core.display.Math object>"
            ],
            "text/latex": "$\\displaystyle \\lim{x \\to \\infty} f(x) = \\frac{\\lim_{x \\to \\infty}(\\frac{3}{x^2} +\\frac {x}{x^2})}{\\lim_{x \\to \\infty}(1 - \\frac{2}{x^2})}$"
          },
          "metadata": {}
        },
        {
          "output_type": "stream",
          "name": "stdout",
          "text": [
            "\n",
            "\n"
          ]
        },
        {
          "output_type": "display_data",
          "data": {
            "text/plain": [
              "<IPython.core.display.Math object>"
            ],
            "text/latex": "$\\displaystyle \\lim{x \\to \\infty} f(x) = \\frac{\\lim_{x \\to \\infty}(0 + 0)} {\\lim_{x \\to \\infty}(1 - 0)}$"
          },
          "metadata": {}
        },
        {
          "output_type": "stream",
          "name": "stdout",
          "text": [
            "\n",
            "\n"
          ]
        },
        {
          "output_type": "display_data",
          "data": {
            "text/plain": [
              "<IPython.core.display.Math object>"
            ],
            "text/latex": "$\\displaystyle \\lim{x \\to \\infty} f(x) = \\frac{0} {1}$"
          },
          "metadata": {}
        },
        {
          "output_type": "stream",
          "name": "stdout",
          "text": [
            "\n",
            "\n"
          ]
        },
        {
          "output_type": "display_data",
          "data": {
            "text/plain": [
              "<IPython.core.display.Math object>"
            ],
            "text/latex": "$\\displaystyle \\lim{x \\to \\infty} f(x) = 0$"
          },
          "metadata": {}
        },
        {
          "output_type": "stream",
          "name": "stdout",
          "text": [
            "\n",
            "\n"
          ]
        },
        {
          "output_type": "execute_result",
          "data": {
            "text/plain": [
              "Text(0, 0.5, '$f(x)$')"
            ]
          },
          "metadata": {},
          "execution_count": 67
        },
        {
          "output_type": "display_data",
          "data": {
            "text/plain": [
              "<Figure size 640x480 with 1 Axes>"
            ],
            "image/png": "[encoded data removed]"
          },
          "metadata": {}
        }
      ]
    }
  ]
}