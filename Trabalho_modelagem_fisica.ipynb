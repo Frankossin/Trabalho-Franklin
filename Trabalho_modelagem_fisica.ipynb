{
  "nbformat": 4,
  "nbformat_minor": 0,
  "metadata": {
    "colab": {
      "provenance": [],
      "include_colab_link": true
    },
    "kernelspec": {
      "name": "python3",
      "display_name": "Python 3"
    },
    "language_info": {
      "name": "python"
    }
  },
  "cells": [
    {
      "cell_type": "markdown",
      "metadata": {
        "id": "view-in-github",
        "colab_type": "text"
      },
      "source": [
        "<a href=\"https://colab.research.google.com/github/Frankossin/Trabalho-Franklin/blob/main/Trabalho_modelagem_fisica.ipynb\" target=\"_parent\"><img src=\"https://colab.research.google.com/assets/colab-badge.svg\" alt=\"Open In Colab\"/></a>"
      ]
    },
    {
      "cell_type": "code",
      "execution_count": 62,
      "metadata": {
        "id": "34Ha7eHOJiD9"
      },
      "outputs": [],
      "source": [
        "import matplotlib.pyplot as plt\n",
        "import math\n",
        "from math import pi, tan\n",
        "import sympy as sy\n",
        "import numpy as np\n",
        "from numpy import cos, sin"
      ]
    },
    {
      "cell_type": "code",
      "source": [
        "#EX 1\n",
        "#a)\n",
        "tan = 200/50\n",
        "print(\"O Ângulo do fotográfo é:\")\n",
        "display((math.atan(tan))*(180/np.pi))\n",
        "print(\"o triângulo fica assim: \\n\")\n",
        "x1=np.array([0,50,50,0])\n",
        "y1=np.array([0,0,200,0])\n",
        "\n",
        "fig1= plt.figure(1)\n",
        "ax1=fig1.add_subplot(111)\n",
        "\n",
        "ax1.axis('square')\n",
        "plt.plot(x1,y1,color=[0/255,100/255,200/255])\n",
        "\n",
        "plt.xlim([-20,100])\n",
        "plt.ylim([-20,200])\n",
        "\n",
        "plt.grid(axis='both',which='major',color=(0.8, 0.8, 0.8, 0.5), linestyle='-', linewidth=1)\n",
        "plt.minorticks_on()\n",
        "plt.grid(axis='both',which='minor',color=(0.8, 0.8, 0.8, 0.5), linestyle=':', linewidth=1)\n",
        "\n",
        "\n",
        "\n",
        "plt.show() \n",
        "print(\"\\n-------------------------------------------------------------------------------\\n\")\n",
        "\n",
        "#b)\n",
        "def descubraAngulo(catO,catA):\n",
        "  tan = catO/catA\n",
        "  AnguloRad = math.atan(tan)\n",
        "  Angulo = AnguloRad * (180/np.pi)\n",
        "  return Angulo\n",
        "\n",
        "a = int(input(\"Digite a altura: \"))\n",
        "\n",
        "x = descubraAngulo(a,50)\n",
        "\n",
        "print(\"O Ângulo que o fotográfo precisa estar: \")\n",
        "display(x)\n",
        "print(\"\\n O triângulo ficara dessa forma: \\n\")\n",
        "\n",
        "\n",
        "#c)\n",
        "x1=np.array([0,50,50,0])\n",
        "y1=np.array([0,0,a,0])\n",
        "\n",
        "fig1= plt.figure(1)\n",
        "ax1=fig1.add_subplot(111)\n",
        "\n",
        "ax1.axis('square')\n",
        "plt.plot(x1,y1,color=[0/255,100/255,200/255])\n",
        "\n",
        "if a > 50:\n",
        "  plt.xlim([-50,a])\n",
        "else:\n",
        "  plt.xlim(-20,60)  \n",
        "plt.ylim([-20,a+10])\n",
        "\n",
        "plt.grid(axis='both',which='major',color=(0.8, 0.8, 0.8, 0.5), linestyle='-', linewidth=1)\n",
        "plt.minorticks_on()\n",
        "plt.grid(axis='both',which='minor',color=(0.8, 0.8, 0.8, 0.5), linestyle=':', linewidth=1)\n",
        "\n",
        "\n",
        "\n",
        "plt.show() \n"
      ],
      "metadata": {
        "colab": {
          "base_uri": "https://localhost:8080/",
          "height": 697
        },
        "id": "y2xXxVDFT8G6",
        "outputId": "cba427be-4bd6-4901-c9ce-a72f10e94998"
      },
      "execution_count": 12,
      "outputs": [
        {
          "output_type": "stream",
          "name": "stdout",
          "text": [
            "O Ângulo do fotográfo é:\n"
          ]
        },
        {
          "output_type": "display_data",
          "data": {
            "text/plain": [
              "75.96375653207353"
            ]
          },
          "metadata": {}
        },
        {
          "output_type": "stream",
          "name": "stdout",
          "text": [
            "o triângulo fica assim: \n",
            "\n"
          ]
        },
        {
          "output_type": "display_data",
          "data": {
            "text/plain": [
              "<Figure size 432x288 with 1 Axes>"
            ],
            "image/png": "[encoded data removed]"
          },
          "metadata": {
            "needs_background": "light"
          }
        },
        {
          "output_type": "stream",
          "name": "stdout",
          "text": [
            "\n",
            "-------------------------------------------------------------------------------\n",
            "\n",
            "Digite a altura: 10\n",
            "O Ângulo que o fotográfo precisa estar: \n"
          ]
        },
        {
          "output_type": "display_data",
          "data": {
            "text/plain": [
              "11.309932474020215"
            ]
          },
          "metadata": {}
        },
        {
          "output_type": "stream",
          "name": "stdout",
          "text": [
            "\n",
            " O triângulo ficara dessa forma: \n",
            "\n"
          ]
        },
        {
          "output_type": "display_data",
          "data": {
            "text/plain": [
              "<Figure size 432x288 with 1 Axes>"
            ],
            "image/png": "[encoded data removed]"
          },
          "metadata": {
            "needs_background": "light"
          }
        }
      ]
    },
    {
      "cell_type": "code",
      "source": [
        "#Exercicio 2 \n",
        "import math\n",
        "import sympy as sy\n",
        "import numpy as np\n",
        "import matplotlib.pyplot as plt\n",
        "#a)\n",
        "h = float(input(\"Digite a altura do telhado:\"))\n",
        "print(f\"O comprimento mínimo para cumprir a norma requerida é de {h*4}\")\n",
        "\n",
        "#b)\n",
        "c = float(input(\"Digite o comprimento do telhado:\"))\n",
        "print(f\"A altura mínima para cumprir a norma requerida é de {c/4}\")\n",
        "\n",
        "#c)\n",
        "x1 = [0]\n",
        "n = float(input(\"digite o comprimento que deseja:\"))\n",
        "while n < 2 or n > 7:\n",
        "  n = float(input(\"digite o comprimento que deseja:\"))\n",
        "\n",
        "x1.append(n)\n",
        "x1.append(n)\n",
        "x1.append(0)\n",
        "y1 = [0,0]\n",
        "y1.append(n/4)\n",
        "y1.append(0)\n",
        "np.array(x1)\n",
        "np.array(x1)\n",
        "fig1=plt.figure(1)\n",
        "ax1=fig1.add_subplot(111)\n",
        "\n",
        "ax1.axis('square')\n",
        "plt.plot(x1,y1,color=[0/255,100/255,200/255]) \n",
        "\n",
        "plt.xlim([-5,10])\n",
        "plt.ylim([-5,10])\n",
        "\n",
        "plt.grid(axis='both',which='major',color=(0.8, 0.8, 0.8, 0.5), linestyle='-', linewidth=1)\n",
        "plt.minorticks_on()\n",
        "plt.grid(axis='both',which='minor',color=(0.8, 0.8, 0.8, 0.5), linestyle=':', linewidth=1)\n",
        "\n",
        "tg = y1[2]/n\n",
        "print(f\"o ângulo é de {tg}\")\n",
        "\n",
        "\n"
      ],
      "metadata": {
        "colab": {
          "base_uri": "https://localhost:8080/",
          "height": 373
        },
        "id": "6wesRfSlYT5W",
        "outputId": "a5cf5610-33bb-457f-ca33-6a717d9f366a"
      },
      "execution_count": 3,
      "outputs": [
        {
          "output_type": "stream",
          "name": "stdout",
          "text": [
            "Digite a altura do telhado:40\n",
            "O comprimento mínimo para cumprir a norma requerida é de 160.0\n",
            "Digite o comprimento do telhado:30\n",
            "A altura mínima para cumprir a norma requerida é de 7.5\n",
            "digite o comprimento que deseja:4\n",
            "o ângulo é de 0.25\n"
          ]
        },
        {
          "output_type": "display_data",
          "data": {
            "text/plain": [
              "<Figure size 432x288 with 1 Axes>"
            ],
            "image/png": "[encoded data removed]"
          },
          "metadata": {
            "needs_background": "light"
          }
        }
      ]
    },
    {
      "cell_type": "code",
      "source": [
        "print(math.sin(30))\n",
        "print(math.sin(30*math.pi/180))"
      ],
      "metadata": {
        "colab": {
          "base_uri": "https://localhost:8080/"
        },
        "id": "Rc8oKKWXXIRo",
        "outputId": "af76f753-e9b2-436f-dea8-c37614e0d67d"
      },
      "execution_count": 16,
      "outputs": [
        {
          "output_type": "stream",
          "name": "stdout",
          "text": [
            "-0.9880316240928618\n",
            "0.49999999999999994\n"
          ]
        }
      ]
    },
    {
      "cell_type": "code",
      "source": [
        "#EX 3\n",
        "\n",
        "x = int(input(\"Digite um ângulo: \"))\n",
        "Ang = x * pi/180\n",
        "def criacirculos(Ang):\n",
        "  plt.plot(0,0, color = 'red', marker = 'o')\n",
        "\n",
        "  angle = np.linspace(0,2*pi,100)\n",
        "  xs = cos(angle)\n",
        "  ys = sin(angle)\n",
        "  plt.plot(xs,ys, color=\"blue\")\n",
        "\n",
        "  arc_angles = np.linspace(0, Ang, 10)\n",
        "  arc_xs = cos(arc_angles)\n",
        "  arc_ys = sin(arc_angles)\n",
        "  plt.plot(arc_xs, arc_ys, color = 'red', lw = 3)\n",
        "\n",
        "  plt.plot([0, 0], [1, -1], color = \"black\")\n",
        "  plt.plot([0, 1], [0, 0], color = 'purple')\n",
        "  plt.plot([1, 1], [-2, 2], color = 'green')\n",
        "\n",
        "  plt.plot([0,cos(Ang)], [0,sin(Ang)], color = \"purple\")\n",
        "\n",
        "  plt.plot([0,cos(Ang)],[0,0],color = 'yellow')\n",
        "  plt.plot([cos(Ang),cos(Ang)],[0,sin(Ang)], color = 'yellow')\n",
        "  plt.plot([cos(Ang),1],[sin(Ang),tan(Ang)],color = \"green\")\n",
        "\n",
        "  r1 = 0.5\n",
        "  arc_angles = np.linspace(0, Ang, 20)\n",
        "  arc_xs = r1 * cos(arc_angles)\n",
        "  arc_ys = r1 * sin(arc_angles)\n",
        "  plt.plot(arc_xs, arc_ys, color = 'green', lw = 3)\n",
        "  plt.gca().annotate(r'$\\theta$', xy=(0.5, 0.2), xycoords='data', fontsize=15, rotation = 90)\n",
        "\n",
        "  plt.xlim(-2,2)\n",
        "  plt.ylim(-2,2)\n",
        "  plt.show()\n",
        "\n",
        "criacirculos(Ang)"
      ],
      "metadata": {
        "colab": {
          "base_uri": "https://localhost:8080/",
          "height": 286
        },
        "id": "galjMMxYKoQp",
        "outputId": "54fd8221-5e0f-4ccd-91ca-1f52c7a9f99a"
      },
      "execution_count": 70,
      "outputs": [
        {
          "name": "stdout",
          "output_type": "stream",
          "text": [
            "Digite um ângulo: 45\n"
          ]
        },
        {
          "output_type": "display_data",
          "data": {
            "text/plain": [
              "<Figure size 432x288 with 1 Axes>"
            ],
            "image/png": "[encoded data removed]"
          },
          "metadata": {
            "needs_background": "light"
          }
        }
      ]
    },
    {
      "cell_type": "code",
      "source": [
        "#EX 4\n",
        "\n"
      ],
      "metadata": {
        "id": "xq9a2W4TsBOb"
      },
      "execution_count": null,
      "outputs": []
    }
  ]
}